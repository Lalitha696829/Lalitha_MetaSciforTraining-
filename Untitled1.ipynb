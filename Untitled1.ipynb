{
  "nbformat": 4,
  "nbformat_minor": 0,
  "metadata": {
    "colab": {
      "provenance": [],
      "authorship_tag": "ABX9TyNXyKD3M3+IxTdX/VXGkpnA",
      "include_colab_link": true
    },
    "kernelspec": {
      "name": "python3",
      "display_name": "Python 3"
    },
    "language_info": {
      "name": "python"
    }
  },
  "cells": [
    {
      "cell_type": "markdown",
      "metadata": {
        "id": "view-in-github",
        "colab_type": "text"
      },
      "source": [
        "<a href=\"https://colab.research.google.com/github/Lalitha696829/Lalitha_MetaSciforTraining-/blob/main/Untitled1.ipynb\" target=\"_parent\"><img src=\"https://colab.research.google.com/assets/colab-badge.svg\" alt=\"Open In Colab\"/></a>"
      ]
    },
    {
      "cell_type": "code",
      "execution_count": null,
      "metadata": {
        "id": "wnxZG7qw_gXz"
      },
      "outputs": [],
      "source": [
        "1. Write a  Python program to check if a number is even or odd"
      ]
    },
    {
      "cell_type": "code",
      "source": [
        "num=int(input(\"Enter a number: \"))\n",
        "if num % 2 == 0:\n",
        "  print(f\"{num} is even.\")\n",
        "else:\n",
        "  print(f\"{num} is odd.\")"
      ],
      "metadata": {
        "colab": {
          "base_uri": "https://localhost:8080/"
        },
        "id": "dZrMDhuWBu0z",
        "outputId": "cce8f924-afc0-48df-cec4-a1d5decb841a"
      },
      "execution_count": 7,
      "outputs": [
        {
          "output_type": "stream",
          "name": "stdout",
          "text": [
            "Enter a number: 10\n",
            "10 is even.\n"
          ]
        }
      ]
    },
    {
      "cell_type": "code",
      "source": [
        "2. Write a Python function to reverse a string without using built-in functions"
      ],
      "metadata": {
        "id": "u4dtMVx5BQ87"
      },
      "execution_count": null,
      "outputs": []
    },
    {
      "cell_type": "code",
      "source": [
        "def reverse_string(s):\n",
        "  reversed_s = \"\"\n",
        "  for char in s:\n",
        "    reversed_s = char + reversed_s\n",
        "  return reversed_s\n",
        "print(reverse_string(\"python\"))"
      ],
      "metadata": {
        "colab": {
          "base_uri": "https://localhost:8080/"
        },
        "id": "E3baczh6Bl1S",
        "outputId": "8e640f51-0dc5-4c43-f86f-0d94a980fa92"
      },
      "execution_count": 18,
      "outputs": [
        {
          "output_type": "stream",
          "name": "stdout",
          "text": [
            "nohtyp\n"
          ]
        }
      ]
    },
    {
      "cell_type": "code",
      "source": [
        "def find_largest_number(num_list):\n",
        "  largest_num = num_list[0]\n",
        "  for num in num_list:\n",
        "    if num > largest_num:\n",
        "      largest_num = num\n",
        "  return largest_num\n",
        "\n",
        "numbers = [12,45,7,23,56,89,34]\n",
        "print(\"Largest number: \",find_largest_number(numbers))"
      ],
      "metadata": {
        "colab": {
          "base_uri": "https://localhost:8080/"
        },
        "id": "8zfl-rFZDosG",
        "outputId": "6334f966-d903-4c5f-d5b8-4ba3d2f7ac83"
      },
      "execution_count": 20,
      "outputs": [
        {
          "output_type": "stream",
          "name": "stdout",
          "text": [
            "Largest number:  89\n"
          ]
        }
      ]
    },
    {
      "cell_type": "code",
      "source": [
        "4. Write a Python function to check if a given string is palindrome"
      ],
      "metadata": {
        "id": "BkCTz2n7FB0S"
      },
      "execution_count": null,
      "outputs": []
    },
    {
      "cell_type": "code",
      "source": [
        "def check_palindrome(s):\n",
        "  reversed_s = reverse_string(s)\n",
        "  if s == reversed_s:\n",
        "    print(f\"{s} is a palindrome\")\n",
        "  else:\n",
        "    print(f\"{s} is not a palindrome\")\n",
        "check_palindrome(\"python\")"
      ],
      "metadata": {
        "colab": {
          "base_uri": "https://localhost:8080/"
        },
        "id": "oVP88uxRFi4r",
        "outputId": "4b065073-8690-4850-a0b2-6ab0b9643963"
      },
      "execution_count": 23,
      "outputs": [
        {
          "output_type": "stream",
          "name": "stdout",
          "text": [
            "python is not a palindrome\n"
          ]
        }
      ]
    },
    {
      "cell_type": "markdown",
      "source": [
        "5. Write a Python program to count the occurences of each character in a given string"
      ],
      "metadata": {
        "id": "5j_XP4UqGvGz"
      }
    },
    {
      "cell_type": "code",
      "source": [
        "def count_char_occurences(s):\n",
        "  char_count = {}\n",
        "  for char in s:\n",
        "    if char in char_count:\n",
        "      char_count += 1\n",
        "    else:\n",
        "      char_count[char] = 1\n",
        "  return char_count\n",
        "print(count_char_occurences(\"Machine\"))\n"
      ],
      "metadata": {
        "colab": {
          "base_uri": "https://localhost:8080/"
        },
        "id": "3c9azlnJHDwa",
        "outputId": "1cc806e5-524e-41a2-be63-228d0b4a0a5c"
      },
      "execution_count": 24,
      "outputs": [
        {
          "output_type": "stream",
          "name": "stdout",
          "text": [
            "{'M': 1, 'a': 1, 'c': 1, 'h': 1, 'i': 1, 'n': 1, 'e': 1}\n"
          ]
        }
      ]
    },
    {
      "cell_type": "markdown",
      "source": [],
      "metadata": {
        "id": "HJiU4pIvGq1E"
      }
    },
    {
      "cell_type": "markdown",
      "source": [
        "Object Oriented Programming"
      ],
      "metadata": {
        "id": "gYEQAu8PH8s7"
      }
    },
    {
      "cell_type": "markdown",
      "source": [
        "1. Difference between Class and Object in Python"
      ],
      "metadata": {
        "id": "JDiOOYHKIQmi"
      }
    },
    {
      "cell_type": "markdown",
      "source": [
        "Class: A class is a blueprint or a template that defines the properties and behavior of an object. It's essentially a design pattern or a template that defines the characteristics of an object. A class typically includes:\n",
        "\n",
        "- Attributes (data members): These are the variables that are defined inside the class.\n",
        "- Methods (functions): These are the functions that are defined inside the class and operate on the attributes.\n",
        "\n",
        "Object: An object is an instance of a class. It's a real-world entity that has its own set of attributes (data members) and methods (functions). An object represents a specific instance of a class, and it has its own set of values for its attributes.\n"
      ],
      "metadata": {
        "id": "iwBKIAFaIuAj"
      }
    },
    {
      "cell_type": "markdown",
      "source": [
        " 2. Explain the concept of inheritance with an example in Python."
      ],
      "metadata": {
        "id": "3KhUOCgQJEB6"
      }
    },
    {
      "cell_type": "markdown",
      "source": [
        "Inheritance is a mechanism in which one class can inherit the properties and behavior of another class. The child class inherits all the attributes and methods of the parent class and can also add new attributes and methods or override the ones inherited from the parent class."
      ],
      "metadata": {
        "id": "wHDZgragJvlS"
      }
    },
    {
      "cell_type": "code",
      "source": [
        "class Animal:\n",
        "    def __init__(self, name):\n",
        "        self.name = name\n",
        "\n",
        "    def eat(self):\n",
        "        print(f\"{self.name} is eating\")\n",
        "\n",
        "class Dog(Animal):\n",
        "    def __init__(self, name, breed):\n",
        "        super().__init__(name)\n",
        "        self.breed = breed\n",
        "\n",
        "    def bark(self):\n",
        "        print(f\"{self.name} the {self.breed} is barking\")\n",
        "\n",
        "my_dog = Dog(\"Ram\", \"Golden Retriever\")\n",
        "my_dog.eat()\n",
        "my_dog.bark()"
      ],
      "metadata": {
        "colab": {
          "base_uri": "https://localhost:8080/"
        },
        "id": "_D8h7UXlKaSA",
        "outputId": "cde0bd7e-1235-4e44-831c-a73751f92ad8"
      },
      "execution_count": 27,
      "outputs": [
        {
          "output_type": "stream",
          "name": "stdout",
          "text": [
            "Ram is eating\n",
            "Ram the Golden Retriever is barking\n"
          ]
        }
      ]
    },
    {
      "cell_type": "markdown",
      "source": [
        "3. What is Method Overriding in pythn"
      ],
      "metadata": {
        "id": "Buanp8juKzGJ"
      }
    },
    {
      "cell_type": "markdown",
      "source": [
        "Method overriding is a feature of inheritance in which a child class provides a different implementation of a method that is already defined in its parent class.\n"
      ],
      "metadata": {
        "id": "Yuy3_OpqMA84"
      }
    },
    {
      "cell_type": "code",
      "source": [
        "class Animal:\n",
        "    def __init__(self, name):\n",
        "        self.name = name\n",
        "\n",
        "    def sound(self):\n",
        "        print(f\"{self.name} makes a sound\")\n",
        "\n",
        "class Dog(Animal):\n",
        "    def __init__(self, name, breed):\n",
        "        super().__init__(name)\n",
        "        self.breed = breed\n",
        "\n",
        "    def sound(self):\n",
        "        print(f\"{self.name} the {self.breed} barks\")\n",
        "\n",
        "my_dog = Dog(\"John\", \"Golden Retriever\")\n",
        "my_dog.sound()"
      ],
      "metadata": {
        "colab": {
          "base_uri": "https://localhost:8080/"
        },
        "id": "4B_0z2AfMD0f",
        "outputId": "3805a84e-42ad-4d7d-eb95-dad3e38dbf2b"
      },
      "execution_count": 29,
      "outputs": [
        {
          "output_type": "stream",
          "name": "stdout",
          "text": [
            "John the Golden Retriever barks\n"
          ]
        }
      ]
    },
    {
      "cell_type": "markdown",
      "source": [
        "4. difference between the instance method, class method and static method in python"
      ],
      "metadata": {
        "id": "_A8Thqy1MfmS"
      }
    },
    {
      "cell_type": "markdown",
      "source": [
        "- Instance method: An instance method is a method that belongs to an instance of a class. It takes the instance as the first argument (conventionally referred to as self).\n",
        "- Class method: A class method is a method that belongs to a class rather than an instance of the class. It takes the class as the first argument (conventionally referred to as cls).\n",
        "- Static method: A static method is a method that belongs to a class rather than an instance of the class. Static methods are used to group related functionality together and they can be called without creting the instance of the class."
      ],
      "metadata": {
        "id": "0em3SQwHMtsS"
      }
    },
    {
      "cell_type": "markdown",
      "source": [
        "5. Explain the significance of encapsulation in Python with an example."
      ],
      "metadata": {
        "id": "AE8Rp4O5NhP0"
      }
    },
    {
      "cell_type": "markdown",
      "source": [
        "Encapsulation in Python is the concept of bundling data and methods that manipulate that data within a single unit, making it harder for other parts of the program to access or modify the data directly.\n",
        "\n",
        "### Types of Encapsulation:\n",
        "1. Public: Members declared as public can be accessed from anywhere in the program.\n",
        "2. Private: Members declared as private can only be accessed within the same class. In Python, private members are denoted by a double underscore (__) prefix.\n"
      ],
      "metadata": {
        "id": "ZGfTKDyPOV5Z"
      }
    },
    {
      "cell_type": "code",
      "source": [
        "\n",
        "class Employee:\n",
        "    def __init__(self, name, age, salary):\n",
        "        self.__name = name\n",
        "        self.__age = age\n",
        "        self.__salary = salary\n",
        "\n",
        "    def get_name(self):\n",
        "        return self.__name\n",
        "\n",
        "    def get_age(self):\n",
        "        return self.__age\n",
        "\n",
        "    def get_salary(self):\n",
        "        return self.__salary\n",
        "\n",
        "    def increase_salary(self, percentage):\n",
        "        self.__salary += (self.__salary * percentage / 100)\n",
        "        print(f\"Salary increased by {percentage}% to ${self.__salary:.2f}\")\n",
        "\n",
        "employee = Employee(\"Shyam\", 30, 40000)\n",
        "print(employee.get_name())\n",
        "print(employee.get_age())\n",
        "print(employee.get_salary())\n",
        "employee.increase_salary(10)\n"
      ],
      "metadata": {
        "colab": {
          "base_uri": "https://localhost:8080/"
        },
        "id": "lsuBU_AROl35",
        "outputId": "d2a43670-38cb-42f4-c2f4-7fff46009af6"
      },
      "execution_count": 31,
      "outputs": [
        {
          "output_type": "stream",
          "name": "stdout",
          "text": [
            "Shyam\n",
            "30\n",
            "40000\n",
            "Salary increased by 10% to $44000.00\n"
          ]
        }
      ]
    }
  ]
}