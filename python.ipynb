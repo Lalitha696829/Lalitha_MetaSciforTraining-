{
  "nbformat": 4,
  "nbformat_minor": 0,
  "metadata": {
    "colab": {
      "provenance": [],
      "authorship_tag": "ABX9TyPkOvg2K5LWYuu6qXz3noCR",
      "include_colab_link": true
    },
    "kernelspec": {
      "name": "python3",
      "display_name": "Python 3"
    },
    "language_info": {
      "name": "python"
    }
  },
  "cells": [
    {
      "cell_type": "markdown",
      "metadata": {
        "id": "view-in-github",
        "colab_type": "text"
      },
      "source": [
        "<a href=\"https://colab.research.google.com/github/Lalitha696829/Lalitha_MetaSciforTraining-/blob/main/python.ipynb\" target=\"_parent\"><img src=\"https://colab.research.google.com/assets/colab-badge.svg\" alt=\"Open In Colab\"/></a>"
      ]
    },
    {
      "cell_type": "markdown",
      "source": [
        "1. Write a Python program that prints \"Hello, World!\" to the console."
      ],
      "metadata": {
        "id": "P37SF0FR9nBb"
      }
    },
    {
      "cell_type": "code",
      "source": [
        "print(\"Hello, World!\")"
      ],
      "metadata": {
        "colab": {
          "base_uri": "https://localhost:8080/"
        },
        "id": "V_nxfl2n9pXQ",
        "outputId": "1b13d07c-9765-42d3-cb59-97545160b2d3"
      },
      "execution_count": 4,
      "outputs": [
        {
          "output_type": "stream",
          "name": "stdout",
          "text": [
            "Hello, World!\n"
          ]
        }
      ]
    },
    {
      "cell_type": "markdown",
      "source": [
        "2. Declare a variable x with the value 10. Assign another variable y with the string \"Python\". Print both values along with their types.\n"
      ],
      "metadata": {
        "id": "klaWCFXI9vU2"
      }
    },
    {
      "cell_type": "code",
      "source": [
        "x=10\n",
        "y=\"Python\"\n",
        "print(\"Value of x:\",x)\n",
        "print(\"Value of y:\",y)\n",
        "print(\"Type of x:\",type(x))\n",
        "print(\"Type of y:\",type(y))"
      ],
      "metadata": {
        "colab": {
          "base_uri": "https://localhost:8080/"
        },
        "id": "frdm2T-y9323",
        "outputId": "35cbd160-2439-4b83-8351-813e6d065565"
      },
      "execution_count": 5,
      "outputs": [
        {
          "output_type": "stream",
          "name": "stdout",
          "text": [
            "Value of x: 10\n",
            "Value of y: Python\n",
            "Type of x: <class 'int'>\n",
            "Type of y: <class 'str'>\n"
          ]
        }
      ]
    },
    {
      "cell_type": "markdown",
      "source": [
        "3. Create a list of five numbers. Write a Python program to find the sum and average of all numbers in the list."
      ],
      "metadata": {
        "id": "Cep_2fl_-Op5"
      }
    },
    {
      "cell_type": "code",
      "source": [
        " #List creation\n",
        "numbers=[10,20,30,40,50]\n",
        "total_numbers=sum(numbers)\n",
        "Average=total_numbers/len(numbers)\n",
        "print(\"The sum of all numbers is\",total_numbers)\n",
        "print(\"The average of all numbers is\",Average)"
      ],
      "metadata": {
        "colab": {
          "base_uri": "https://localhost:8080/"
        },
        "id": "KET_aZtl-bNt",
        "outputId": "bcbe339a-cd0f-4ad1-b266-71da082733d5"
      },
      "execution_count": 6,
      "outputs": [
        {
          "output_type": "stream",
          "name": "stdout",
          "text": [
            "The sum of all numbers is 150\n",
            "The average of all numbers is 30.0\n"
          ]
        }
      ]
    },
    {
      "cell_type": "markdown",
      "source": [
        "4. Write a Python program that takes two numbers as input and prints their sum, difference, product, and quotient."
      ],
      "metadata": {
        "id": "8KIgHMpFBZm9"
      }
    },
    {
      "cell_type": "code",
      "source": [
        "num1=int(input(\"Enter first number: \"))\n",
        "num2=int(input(\"Enter second number: \"))\n",
        "#Calculating the sum, difference, product and quotient of two numbers\n",
        "sum=num1+num2\n",
        "difference=num1-num2\n",
        "product=num1*num2\n",
        "quotient=num1/num2\n",
        "print(\"The sum of num1 and num2 is\",sum)\n",
        "print(\"The difference of num1 and num2 is\",difference)\n",
        "print(\"The prouct of num1 and num2 is\",product)\n",
        "print(\"The quotient of num1 and num2 is\",quotient)\n",
        "\n"
      ],
      "metadata": {
        "colab": {
          "base_uri": "https://localhost:8080/"
        },
        "id": "pqXHL8t4BoK-",
        "outputId": "94950479-6711-4266-9061-6b72d1af5d9b"
      },
      "execution_count": 7,
      "outputs": [
        {
          "output_type": "stream",
          "name": "stdout",
          "text": [
            "Enter first number: 10\n",
            "Enter second number: 20\n",
            "The sum of num1 and num2 is 30\n",
            "The difference of num1 and num2 is -10\n",
            "The prouct of num1 and num2 is 200\n",
            "The quotient of num1 and num2 is 0.5\n"
          ]
        }
      ]
    },
    {
      "cell_type": "markdown",
      "source": [
        "5.Given name = \"Alice\" and age = 25, use different string formatting techniques (%, .format(), and f-strings) to print \"Alice is 25 years old."
      ],
      "metadata": {
        "id": "SkNF7ylADQ_N"
      }
    },
    {
      "cell_type": "code",
      "source": [
        "name=\"Alice\"\n",
        "age=25\n",
        "print(\"%s is %d years old.\" %(name,age))\n",
        "#Using .format()\n",
        "name=\"Alice\"\n",
        "age=25\n",
        "print(\"{}s is {} years old.\".format(name,age))\n",
        "#Using f-strings\n",
        "name=\"Alice\"\n",
        "age=25\n",
        "print(f\"{name} is {age} years old.\")"
      ],
      "metadata": {
        "colab": {
          "base_uri": "https://localhost:8080/"
        },
        "id": "bsB7ctyKDjQT",
        "outputId": "0f7e3118-cd77-4b11-d55c-6aadf2ab1058"
      },
      "execution_count": 11,
      "outputs": [
        {
          "output_type": "stream",
          "name": "stdout",
          "text": [
            "Alice is 25 years old.\n",
            "Alices is 25 years old.\n",
            "Alice is 25 years old.\n"
          ]
        }
      ]
    },
    {
      "cell_type": "markdown",
      "source": [
        "6.Write a Python program that takes a string as input and:\n",
        "Converts it to uppercase and lowercase.\n",
        "Counts the number of vowels in the string.\n",
        "Reverses the string.\n"
      ],
      "metadata": {
        "id": "BpoNZWSXE1sh"
      }
    },
    {
      "cell_type": "code",
      "source": [
        "\n",
        "    string = input(\"Enter a string: \")\n",
        "    uppercase_string = string.upper()\n",
        "    print(\"Uppercase:\",uppercase_string)\n",
        "    lowercase_string=string.lower()\n",
        "    print(\"Lowercase:\",lowercase_string)\n",
        "    vowels=\"aeiouAEIOU\"\n",
        "    count=0\n",
        "    for char in string:\n",
        "      if char in vowels:\n",
        "        count+=1\n",
        "    print(\"Number of vowels\",count)\n",
        "    reverse=string[::-1]\n",
        "    print(\"Reversed string is\", reverse)"
      ],
      "metadata": {
        "colab": {
          "base_uri": "https://localhost:8080/"
        },
        "id": "oh6EpmotNFg1",
        "outputId": "f421c081-33e4-4fb7-958a-9dc2ef1dff03"
      },
      "execution_count": 37,
      "outputs": [
        {
          "output_type": "stream",
          "name": "stdout",
          "text": [
            "Enter a string: 'python'\n",
            "Uppercase: 'PYTHON'\n",
            "Lowercase: 'python'\n",
            "Number of vowels 1\n",
            "Reversed string is 'nohtyp'\n"
          ]
        }
      ]
    },
    {
      "cell_type": "markdown",
      "source": [
        "7. Write a Python program that takes a number as input and checks whether it is even or odd."
      ],
      "metadata": {
        "id": "2CV9z9RLHvbA"
      }
    },
    {
      "cell_type": "code",
      "source": [
        "def main():\n",
        "    number = int(input(\"Enter a number\"))\n",
        "    if number%2==0:\n",
        "      print(f\"{number} is an even number \")\n",
        "    else:\n",
        "      print(f\"{number} is an odd number \")\n",
        "if __name__ == \"__main__\":\n",
        "    main()"
      ],
      "metadata": {
        "colab": {
          "base_uri": "https://localhost:8080/"
        },
        "id": "jZm_GBJ5HxY8",
        "outputId": "4fdfa797-b545-40a9-9835-e978c8ac41b3"
      },
      "execution_count": 15,
      "outputs": [
        {
          "output_type": "stream",
          "name": "stdout",
          "text": [
            "Enter a number10\n",
            "10 is an even number \n"
          ]
        }
      ]
    },
    {
      "cell_type": "markdown",
      "source": [
        "8.Write a Python program that prints all prime numbers between 1 and 50.\n"
      ],
      "metadata": {
        "id": "IyUpBY-GIfX0"
      }
    },
    {
      "cell_type": "code",
      "source": [
        "def is_prime(n):\n",
        "      if n < 2:\n",
        "        return False\n",
        "      for i in range(2,int(n**0.5) + 1):\n",
        "        if n % i == 0:\n",
        "            return False\n",
        "      return True\n",
        "print(\"Prime numbers between 1 and 50:\")\n",
        "for num in range(1, 51):\n",
        "    if is_prime(num):\n",
        "        print(num, end=\" \")"
      ],
      "metadata": {
        "colab": {
          "base_uri": "https://localhost:8080/"
        },
        "id": "Cro3MRl4IkyA",
        "outputId": "1aea1217-ef77-467a-d59b-ba85d2ac2b1e"
      },
      "execution_count": 22,
      "outputs": [
        {
          "output_type": "stream",
          "name": "stdout",
          "text": [
            "Prime numbers between 1 and 50:\n",
            "2 3 5 7 11 13 17 19 23 29 31 37 41 43 47 "
          ]
        }
      ]
    },
    {
      "cell_type": "code",
      "source": [
        "def factorial(n):\n",
        "    if n == 0 or n == 1:\n",
        "        return 1\n",
        "    else:\n",
        "        return n * factorial(n - 1)\n",
        "num = int(input(\"Enter a number: \"))\n",
        "print(f\"Factorial of {num} is {factorial(num)}\")"
      ],
      "metadata": {
        "colab": {
          "base_uri": "https://localhost:8080/"
        },
        "id": "uxP8t8dtJWP_",
        "outputId": "08407ee3-0ea9-43d8-fa37-d10144a16abd"
      },
      "execution_count": 23,
      "outputs": [
        {
          "output_type": "stream",
          "name": "stdout",
          "text": [
            "Enter a number: 5\n",
            "Factorial of 5 is 120\n"
          ]
        }
      ]
    },
    {
      "cell_type": "markdown",
      "source": [
        "10.Create a Car class with attributes brand, model, and year. Define a method display_info() that prints car details. Instantiate an object and call the method"
      ],
      "metadata": {
        "id": "dU4nqlqHJup6"
      }
    },
    {
      "cell_type": "code",
      "source": [
        "class Car:\n",
        "    def __init__(self, brand, model, year):\n",
        "        self.brand = brand\n",
        "        self.model = model\n",
        "        self.year = year\n",
        "\n",
        "    def display_info(self):\n",
        "      print(f\"Car Details: {self.year} {self.brand} {self.model}\")\n",
        "my_car = Car(\"Tesla\", \"BMW\", 2567)\n",
        "my_car.display_info()\n"
      ],
      "metadata": {
        "colab": {
          "base_uri": "https://localhost:8080/"
        },
        "id": "SkE1c4IDJn4b",
        "outputId": "9d50e95d-0736-4fdb-dfe2-2542e44d5bac"
      },
      "execution_count": 25,
      "outputs": [
        {
          "output_type": "stream",
          "name": "stdout",
          "text": [
            "Car Details: 2567 Tesla BMW\n"
          ]
        }
      ]
    },
    {
      "cell_type": "markdown",
      "source": [
        "11. Create a dictionary containing three students' names as keys and their scores as values. Write a program to:\n",
        "Print all keys and values.\n",
        "Find the highest score.\n"
      ],
      "metadata": {
        "id": "krCcKxX8Kwvy"
      }
    },
    {
      "cell_type": "code",
      "source": [
        "students = {\n",
        "    \"Ram\": 90,\n",
        "    \"Kiran\": 85,\n",
        "    \"Ravi\": 50\n",
        "}\n",
        "print(\"Student Scores:\")\n",
        "for name, score in students.items():\n",
        "    print(f\"{name}: {score}\")\n",
        "highest_score = max(students.values())\n",
        "top_students = [name for name, score in students.items() if score == highest_score]\n",
        "print(f\"\\nHighest Score: {highest_score}\")\n",
        "print(f\"Student(s) with the highest score: {', '.join(top_students)}\")\n"
      ],
      "metadata": {
        "colab": {
          "base_uri": "https://localhost:8080/"
        },
        "id": "16BV6zg9J8s-",
        "outputId": "0b3fba9f-abdd-44eb-e8c7-0e1095317cfa"
      },
      "execution_count": 28,
      "outputs": [
        {
          "output_type": "stream",
          "name": "stdout",
          "text": [
            "Student Scores:\n",
            "Ram: 90\n",
            "Kiran: 85\n",
            "Ravi: 50\n",
            "\n",
            "Highest Score: 90\n",
            "Student(s) with the highest score: Ram\n"
          ]
        }
      ]
    },
    {
      "cell_type": "markdown",
      "source": [
        "12.Write a Python program that imports the math module and calculates the square root and factorial of a given number."
      ],
      "metadata": {
        "id": "spzrlsfOLUHB"
      }
    },
    {
      "cell_type": "code",
      "source": [
        "import math\n",
        "def main():\n",
        "  number = float(input(\"Enter a number: \"))\n",
        "  square_root = math.sqrt(number)\n",
        "  if number.is_integer() and number >= 0:\n",
        "        factorial = math.factorial(int(number))\n",
        "\n",
        "  else:\n",
        "        factorial = \"Factorial is not defined for non-integer or negative numbers.\"\n",
        "        print(f\"Square root of {number} is: {square_root}\")\n",
        "  print(f\"Factorial of {number} is: {factorial}\")\n",
        "\n",
        "if __name__ == \"__main__\":\n",
        "    main()\n"
      ],
      "metadata": {
        "colab": {
          "base_uri": "https://localhost:8080/"
        },
        "id": "Xv1fr8WkLZSP",
        "outputId": "240ba344-b6a9-488f-ef13-e1e71f9d9ef9"
      },
      "execution_count": 29,
      "outputs": [
        {
          "output_type": "stream",
          "name": "stdout",
          "text": [
            "Enter a number: 6\n",
            "Factorial of 6.0 is: 720\n"
          ]
        }
      ]
    },
    {
      "cell_type": "markdown",
      "source": [
        "13. Write a Python program that asks the user for their name and age, then prints a message saying \"Hello [name], you are [age] years old!\".\n"
      ],
      "metadata": {
        "id": "Irsm_IkFLls8"
      }
    },
    {
      "cell_type": "code",
      "source": [
        "def main():\n",
        "  name = input(\"What is your name? \")\n",
        "  age = input(\"What is your age? \")\n",
        "  print(f\"Hello {name}, you are {age} years old!\")\n",
        "if __name__ == \"__main__\":\n",
        "    main()\n"
      ],
      "metadata": {
        "colab": {
          "base_uri": "https://localhost:8080/"
        },
        "id": "RuNTFE4dLrcZ",
        "outputId": "ab6902ba-9959-4de4-c125-7e0e1595d654"
      },
      "execution_count": 30,
      "outputs": [
        {
          "output_type": "stream",
          "name": "stdout",
          "text": [
            "What is your name? Lalitha\n",
            "What is your age? 24\n",
            "Hello Lalitha, you are 24 years old!\n"
          ]
        }
      ]
    },
    {
      "cell_type": "code",
      "source": [],
      "metadata": {
        "id": "bPElgWL6MjGO"
      },
      "execution_count": null,
      "outputs": []
    }
  ]
}